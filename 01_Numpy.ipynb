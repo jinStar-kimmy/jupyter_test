{
 "cells": [
  {
   "cell_type": "markdown",
   "id": "d0801f83",
   "metadata": {},
   "source": [
    "### 배열 생성하기\n",
    "- Numpy는 Numeric Python의 줄임말\n",
    "- 수학분야 관련된 통계 연상 작업시 필요한 라이브러리\n",
    "- 과학 계산 컴퓨팅과 데이터 분석에 필요한 가장 기본적인 패키지\n",
    "\n",
    "Numpy 배열은 리스트와 거의 흡사하지만\n",
    "연산속도가 빠르고 메모리 효율성이 높아서 대용량 데이터를 다루는데 성능상 우위를 차지한다.\n",
    "\n",
    "사용하기 전에 아래와 같이 라이브러리 모듈을 import 해야한다.\n",
    "\n",
    "Numpy 배열을 만든 방법\n",
    "1) array() 사용 \n",
    "2) random 랜덤함수 사용"
   ]
  },
  {
   "cell_type": "code",
   "execution_count": 1,
   "id": "866067ed",
   "metadata": {},
   "outputs": [],
   "source": [
    "import numpy as np"
   ]
  },
  {
   "cell_type": "markdown",
   "id": "6ddef7e2",
   "metadata": {},
   "source": [
    "### np배열 생성"
   ]
  },
  {
   "cell_type": "code",
   "execution_count": 16,
   "id": "9e64fea9",
   "metadata": {},
   "outputs": [
    {
     "name": "stdout",
     "output_type": "stream",
     "text": [
      "[4, 5, 6, 7]\n",
      "[4 5 6 7]\n",
      "list type:  <class 'list'>\n",
      "numpy arry type:  <class 'numpy.ndarray'>\n"
     ]
    }
   ],
   "source": [
    "'''\n",
    "리스트와 numpy배열을 각각 생성하고 두개를 비교해보자\n",
    "\n",
    "\n",
    "1) array() 사용\n",
    "\n",
    "::\n",
    "1.\n",
    "리스트는 출력 결과가 [ ]안에 들어오고 각 요소들이 ,(콤마)로 구분된다\n",
    "np 배열은 출력 결과가 [ ]안에 들어오고 각 요소들이 콤마로 구분없이 그냥 나열된다.\n",
    "::\n",
    "2.\n",
    "np 배열의 타입은 ndarray 타입\n",
    "::\n",
    "ndarray 클래스\n",
    "다차원 행렬구조를 지원하는 Numpy의 핵심 클래스\n",
    "'''\n",
    "myList = [4, 5, 6, 7]   #기본 list\n",
    "myList\n",
    "\n",
    "myArr = np.array(myList)\n",
    "\n",
    "print(myList)\n",
    "print(myArr)\n",
    "print(\"list type: \", type(myList)) \n",
    "print(\"numpy arry type: \", type(myArr))"
   ]
  },
  {
   "cell_type": "markdown",
   "id": "70397f12",
   "metadata": {},
   "source": [
    "### 슬라이싱과 인덱싱"
   ]
  },
  {
   "cell_type": "code",
   "execution_count": 15,
   "id": "1f2d3abb",
   "metadata": {},
   "outputs": [
    {
     "name": "stdout",
     "output_type": "stream",
     "text": [
      "[5, 6]\n",
      "[5 6]\n",
      "[-5, 6]\n",
      "[-5  6]\n"
     ]
    }
   ],
   "source": [
    "list_sub = myList[1:3]  # 슬라이싱(숫자일때는 뒷부분 숫자가 포함되지 않는다)\n",
    "print(list_sub)\n",
    "\n",
    "arr_sub = myArr[1:3]\n",
    "print(arr_sub)\n",
    "\n",
    "list_sub[0] = -5\n",
    "arr_sub[0] = -5\n",
    "\n",
    "print(list_sub)\n",
    "print(arr_sub)"
   ]
  },
  {
   "cell_type": "markdown",
   "id": "c95cbbcd",
   "metadata": {},
   "source": [
    "### 리스트와 np배열의 차이점\n",
    "리스트는 원본이 안바뀐다. 원본을 카피해서 새로운걸 만든다. <br>\n",
    "np배열은 원본이 바뀐다.<br>\n",
    "::\n",
    "메모리 활용적인 성능면에서는 np배열이 성능이 좋아진다.<br>"
   ]
  },
  {
   "cell_type": "code",
   "execution_count": 13,
   "id": "1a0f7985",
   "metadata": {},
   "outputs": [
    {
     "name": "stdout",
     "output_type": "stream",
     "text": [
      "[4, 5, 6, 7]\n",
      "[ 4 -5  6  7]\n"
     ]
    }
   ],
   "source": [
    "print(myList)\n",
    "print(myArr)  # [ 4 -5  6  7] 위에서 슬라이싱을 해서 변경 했던 것을 원본 numpy Array도 바뀐다."
   ]
  },
  {
   "cell_type": "markdown",
   "id": "d4e9e394",
   "metadata": {},
   "source": [
    "### Numpy 배열 생성 \n",
    "- random 함수 사용"
   ]
  },
  {
   "cell_type": "code",
   "execution_count": 17,
   "id": "a9ed9b99",
   "metadata": {},
   "outputs": [],
   "source": [
    "a = np.random.rand?   # ?는 도움말 보기"
   ]
  },
  {
   "cell_type": "code",
   "execution_count": 43,
   "id": "84cef914",
   "metadata": {},
   "outputs": [
    {
     "name": "stdout",
     "output_type": "stream",
     "text": [
      "[0.40981397 0.64958551 0.66823093 0.02399315 0.19954616]\n",
      "<class 'numpy.ndarray'>\n",
      "[1 9 6 7 7]\n",
      "[-0.02953595  0.33875445  0.11334091  0.20135796  0.40057503 -0.49801236\n",
      " -0.68696575 -0.7512197   0.62532852 -1.71910134]\n"
     ]
    }
   ],
   "source": [
    "a = np.random.rand(5)  # 5개의 랜덤 숫자 출력\n",
    "print(a)\n",
    "print(type(a))\n",
    "\n",
    "''' randint(최소값, 최대값, 개수)'''\n",
    "b = np.random.randint(1, 10, 5)  # 1부터 10까지의 숫자 중에 5개를 추출\n",
    "print(b)\n",
    "\n",
    "c = np.random.randn(10) # 가우시안 표준분포 값\n",
    "print(c)  # 10개의 랜덤 숫자 출력"
   ]
  },
  {
   "cell_type": "markdown",
   "id": "194c6d41",
   "metadata": {},
   "source": [
    "### Numpy 배열 생성과 동시에 초기화 \n",
    "\n",
    "* zeros(), ones(), arange() 사용"
   ]
  },
  {
   "cell_type": "code",
   "execution_count": 44,
   "id": "6f09da05",
   "metadata": {},
   "outputs": [
    {
     "name": "stdout",
     "output_type": "stream",
     "text": [
      "[0. 0. 0. 0. 0. 0. 0. 0. 0. 0.]\n",
      "[1. 1. 1. 1. 1. 1. 1. 1. 1. 1.]\n",
      "[5. 5. 5. 5. 5. 5. 5. 5. 5. 5.]\n",
      "[5. 5. 5. 5. 5. 5. 5. 5. 5. 5.]\n",
      "[5. 5. 5. 5. 5. 5. 5. 5. 5. 5.]\n"
     ]
    }
   ],
   "source": [
    "# 0으로 초기화\n",
    "# 값이 0.0(실수형)으로 이루어진 크기가 10인 배열을 생성\n",
    "az = np.zeros(10)\n",
    "print(az)  # float 타입으로 만들어짐  0.0\n",
    "\n",
    "# 1(float) 값으로 이뤄진 크기가 10인 배열 생성\n",
    "ao = np.ones(10)\n",
    "print(ao)\n",
    "\n",
    "# 5라는 값으로 이뤄진 크기가 10인 배열 생성\n",
    "af = np.zeros(10) + 5   # 초기화 값인 0에 5를 더해서 10개 생성\n",
    "print(af)\n",
    "af_2 = np.ones(10) + 4   # 초기화 값인 1에 4를 더해서 10개 생성\n",
    "print(af_2)\n",
    "af_3 = np.ones(10) * 5\n",
    "print(af_3)"
   ]
  },
  {
   "cell_type": "code",
   "execution_count": 45,
   "id": "2ad8ac0c",
   "metadata": {},
   "outputs": [
    {
     "name": "stdout",
     "output_type": "stream",
     "text": [
      "[[1. 0. 0.]\n",
      " [0. 1. 0.]\n",
      " [0. 0. 1.]]\n"
     ]
    }
   ],
   "source": [
    "'''\n",
    "2차원 [[]]   Matrix\n",
    "1차원 []     Vector\n",
    "'''\n",
    "ae = np.eye(3)\n",
    "print(ae)"
   ]
  },
  {
   "cell_type": "code",
   "execution_count": 46,
   "id": "a9e9cd8c",
   "metadata": {},
   "outputs": [
    {
     "name": "stdout",
     "output_type": "stream",
     "text": [
      "[0 1 2]\n",
      "[0 1 2]\n",
      "[3 4 5 6]\n",
      "[3 5 7 9]\n"
     ]
    }
   ],
   "source": [
    "# arange() 사용\n",
    "print(np.arange(0,3))  # 무조건 row size는 0이다\n",
    "print(np.arange(3))\n",
    "print(np.arange(3,7))\n",
    "print(np.arange(3,10,2))  # 2는 step을 의미"
   ]
  },
  {
   "cell_type": "code",
   "execution_count": 47,
   "id": "5e6154a0",
   "metadata": {},
   "outputs": [
    {
     "name": "stdout",
     "output_type": "stream",
     "text": [
      "[[-11 -11 -11 -11 -11]\n",
      " [-11 -11 -11 -11 -11]\n",
      " [-11 -11 -11 -11 -11]\n",
      " [-11 -11 -11 -11 -11]\n",
      " [-11 -11 -11 -11 -11]]\n"
     ]
    }
   ],
   "source": [
    "# full()\n",
    "afull = np.full((5,5), -11)  # 5행 5열을 -11로 초기화 \n",
    "print(afull)"
   ]
  }
 ],
 "metadata": {
  "kernelspec": {
   "display_name": "Python 3",
   "language": "python",
   "name": "python3"
  },
  "language_info": {
   "codemirror_mode": {
    "name": "ipython",
    "version": 3
   },
   "file_extension": ".py",
   "mimetype": "text/x-python",
   "name": "python",
   "nbconvert_exporter": "python",
   "pygments_lexer": "ipython3",
   "version": "3.8.8"
  },
  "toc": {
   "base_numbering": 1,
   "nav_menu": {},
   "number_sections": true,
   "sideBar": true,
   "skip_h1_title": false,
   "title_cell": "Table of Contents",
   "title_sidebar": "Contents",
   "toc_cell": false,
   "toc_position": {},
   "toc_section_display": true,
   "toc_window_display": true
  }
 },
 "nbformat": 4,
 "nbformat_minor": 5
}
